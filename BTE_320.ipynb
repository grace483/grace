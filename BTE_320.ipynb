{
  "cells": [
    {
      "cell_type": "markdown",
      "metadata": {
        "id": "view-in-github",
        "colab_type": "text"
      },
      "source": [
        "<a href=\"https://colab.research.google.com/github/grace483/grace/blob/main/BTE_320.ipynb\" target=\"_parent\"><img src=\"https://colab.research.google.com/assets/colab-badge.svg\" alt=\"Open In Colab\"/></a>"
      ]
    },
    {
      "cell_type": "markdown",
      "metadata": {
        "id": "fUBjlyOACM73"
      },
      "source": [
        "Boolean Operators on conditional expressions\n",
        "\n",
        "example: a case where we need two Boolean objects to be true at the same time\n",
        "\n",
        "if a and b:\n",
        "\n",
        "Using a compound Boolean expression, this will be:\n"
      ]
    },
    {
      "cell_type": "code",
      "execution_count": null,
      "metadata": {
        "id": "Ml_EOEdwCWE4"
      },
      "outputs": [],
      "source": [
        "if(age>25 and m_status == \"single\") or assets>100000:\n",
        "  print(\"Eligible for loan\")"
      ]
    },
    {
      "cell_type": "markdown",
      "metadata": {
        "id": "Lv6tCdm0DXPm"
      },
      "source": [
        "Compound expressions are a different approach to nested conditionals (which would require lines of if if and else)\n",
        "\n"
      ]
    },
    {
      "cell_type": "code",
      "execution_count": null,
      "metadata": {
        "colab": {
          "base_uri": "https://localhost:8080/",
          "height": 250
        },
        "id": "jHxlj8s_IXCQ",
        "outputId": "cd80dd96-21d7-409d-83bc-dfd6874e24b1"
      },
      "outputs": [
        {
          "ename": "NameError",
          "evalue": "name 'x' is not defined",
          "output_type": "error",
          "traceback": [
            "\u001b[0;31m---------------------------------------------------------------------------\u001b[0m",
            "\u001b[0;31mNameError\u001b[0m                                 Traceback (most recent call last)",
            "\u001b[0;32m<ipython-input-3-b16ddf3736ba>\u001b[0m in \u001b[0;36m<cell line: 2>\u001b[0;34m()\u001b[0m\n\u001b[1;32m      1\u001b[0m \u001b[0;31m# Begin by assigning a provisional value in the variable answer, hypothesizing that all x,y,z are even...\u001b[0m\u001b[0;34m\u001b[0m\u001b[0;34m\u001b[0m\u001b[0m\n\u001b[0;32m----> 2\u001b[0;31m \u001b[0manswer\u001b[0m \u001b[0;34m=\u001b[0m \u001b[0mmin\u001b[0m\u001b[0;34m(\u001b[0m\u001b[0mx\u001b[0m\u001b[0;34m,\u001b[0m \u001b[0my\u001b[0m\u001b[0;34m,\u001b[0m \u001b[0mz\u001b[0m\u001b[0;34m)\u001b[0m\u001b[0;34m\u001b[0m\u001b[0;34m\u001b[0m\u001b[0m\n\u001b[0m\u001b[1;32m      3\u001b[0m \u001b[0;32mif\u001b[0m \u001b[0mx\u001b[0m\u001b[0;34m%\u001b[0m\u001b[0;36m2\u001b[0m \u001b[0;34m!=\u001b[0m \u001b[0;36m0\u001b[0m\u001b[0;34m:\u001b[0m\u001b[0;34m\u001b[0m\u001b[0;34m\u001b[0m\u001b[0m\n\u001b[1;32m      4\u001b[0m     \u001b[0;31m# ...updating when appropriate...\u001b[0m\u001b[0;34m\u001b[0m\u001b[0;34m\u001b[0m\u001b[0m\n\u001b[1;32m      5\u001b[0m     \u001b[0manswer\u001b[0m \u001b[0;34m=\u001b[0m \u001b[0mx\u001b[0m\u001b[0;34m\u001b[0m\u001b[0;34m\u001b[0m\u001b[0m\n",
            "\u001b[0;31mNameError\u001b[0m: name 'x' is not defined"
          ]
        }
      ],
      "source": [
        "# Begin by assigning a provisional value in the variable answer, hypothesizing that all x,y,z are even...\n",
        "answer = min(x, y, z)\n",
        "if x%2 != 0:\n",
        "    # ...updating when appropriate...\n",
        "    answer = x\n",
        "if y%2 != 0 and y > answer:\n",
        "    # ...updating when appropriate...\n",
        "    answer = y\n",
        "if z%2 != 0 and z > answer:\n",
        "    # ...updating when appropriate...\n",
        "    answer = z\n",
        "# ...and finally print the results\n",
        "if x%2 == 0 and y%2 == 0 and z%2 == 0:\n",
        "  print(f'The minimum even value is: {answer}')\n",
        "else:\n",
        "  print(f'The maximum odd value is: {answer}')"
      ]
    },
    {
      "cell_type": "code",
      "execution_count": null,
      "metadata": {
        "colab": {
          "base_uri": "https://localhost:8080/",
          "height": 143
        },
        "id": "yTW4mrCsw7sX",
        "outputId": "ab094bf3-7de5-484d-8dff-e240941c33b7"
      },
      "outputs": [
        {
          "ename": "SyntaxError",
          "evalue": "invalid decimal literal (<ipython-input-2-6b2c6e3554d7>, line 3)",
          "output_type": "error",
          "traceback": [
            "\u001b[0;36m  File \u001b[0;32m\"<ipython-input-2-6b2c6e3554d7>\"\u001b[0;36m, line \u001b[0;32m3\u001b[0m\n\u001b[0;31m    Downloading ColabTurtlePlus-2.0.1-py3-none-any.wh1(31kB)\u001b[0m\n\u001b[0m                                                        ^\u001b[0m\n\u001b[0;31mSyntaxError\u001b[0m\u001b[0;31m:\u001b[0m invalid decimal literal\n"
          ]
        }
      ],
      "source": [
        "!pip install ColabTurtlePlus\n",
        "Collecting ColabTutlePlus\n",
        "  Downloading ColabTurtlePlus-2.0.1-py3-none-any.wh1(31kB)\n",
        "Installing collected packages: ColabTurtlePlus\n",
        "Successfully installed ColabTurtlePlus-2.0.1\n",
        "from ColabTurtlePlus.Turtle import *\n",
        "\n",
        "Clearscreen()\n",
        "\n",
        "Color('black', 'green')\n",
        "begin_fill()\n",
        "jumpto(0,0)\n",
        "\n",
        "Forward(100)"
      ]
    },
    {
      "cell_type": "code",
      "execution_count": null,
      "metadata": {
        "colab": {
          "base_uri": "https://localhost:8080/",
          "height": 872
        },
        "id": "X-JT-p2CyWU_",
        "outputId": "e69707c9-ff65-443e-95c6-111f38f6fcea"
      },
      "outputs": [
        {
          "name": "stdout",
          "output_type": "stream",
          "text": [
            "Requirement already satisfied: ColabTurtlePlus in /usr/local/lib/python3.10/dist-packages (2.0.1)\n"
          ]
        },
        {
          "data": {
            "text/html": [
              "\n",
              "      <svg width=\"800\" height=\"600\">  \n",
              "        <rect width=\"100%\" height=\"100%\" style=\"fill:white;stroke:;stroke-width:1\"/>\n",
              "        \n",
              "        \n",
              "        \n",
              "        \n",
              "        \n",
              "        \n",
              "      </svg>\n",
              "    "
            ],
            "text/plain": [
              "<IPython.core.display.HTML object>"
            ]
          },
          "metadata": {},
          "output_type": "display_data"
        },
        {
          "ename": "NameError",
          "evalue": "name 'Color' is not defined",
          "output_type": "error",
          "traceback": [
            "\u001b[0;31m---------------------------------------------------------------------------\u001b[0m",
            "\u001b[0;31mNameError\u001b[0m                                 Traceback (most recent call last)",
            "\u001b[0;32m<ipython-input-16-2d4e9ed4aab6>\u001b[0m in \u001b[0;36m<cell line: 7>\u001b[0;34m()\u001b[0m\n\u001b[1;32m      5\u001b[0m \u001b[0mclearscreen\u001b[0m\u001b[0;34m(\u001b[0m\u001b[0;34m)\u001b[0m\u001b[0;34m\u001b[0m\u001b[0;34m\u001b[0m\u001b[0m\n\u001b[1;32m      6\u001b[0m \u001b[0;34m\u001b[0m\u001b[0m\n\u001b[0;32m----> 7\u001b[0;31m \u001b[0mColor\u001b[0m \u001b[0;34m(\u001b[0m\u001b[0;34m'black'\u001b[0m\u001b[0;34m,\u001b[0m \u001b[0;34m'green'\u001b[0m\u001b[0;34m)\u001b[0m\u001b[0;34m\u001b[0m\u001b[0;34m\u001b[0m\u001b[0m\n\u001b[0m\u001b[1;32m      8\u001b[0m \u001b[0mbegin_fill\u001b[0m\u001b[0;34m(\u001b[0m\u001b[0;34m)\u001b[0m\u001b[0;34m\u001b[0m\u001b[0;34m\u001b[0m\u001b[0m\n\u001b[1;32m      9\u001b[0m \u001b[0mjumpto\u001b[0m \u001b[0;34m(\u001b[0m\u001b[0;36m0\u001b[0m\u001b[0;34m,\u001b[0m\u001b[0;36m0\u001b[0m\u001b[0;34m)\u001b[0m\u001b[0;34m\u001b[0m\u001b[0;34m\u001b[0m\u001b[0m\n",
            "\u001b[0;31mNameError\u001b[0m: name 'Color' is not defined"
          ]
        }
      ],
      "source": [
        "!pip install ColabTurtlePlus\n",
        "\n",
        "from ColabTurtlePlus.Turtle import *\n",
        "\n",
        "clearscreen()\n",
        "\n",
        "Color ('black', 'green')\n",
        "begin_fill()\n",
        "jumpto (0,0)\n",
        "\n",
        "Forward(100)\n",
        "left(90)\n",
        "forward(100)\n",
        "left(90)\n",
        "forward(100)\n",
        "left(90)\n",
        "forward(100)\n",
        "left(90)"
      ]
    },
    {
      "cell_type": "code",
      "execution_count": null,
      "metadata": {
        "id": "-xqepBQpzs1Y"
      },
      "outputs": [],
      "source": [
        "!pip install ColabTurtlePlus\n",
        "\n",
        "from ColabTurtlePlus.Turtle import *\n",
        "\n",
        "clearscreen()\n",
        "\n",
        "color('black', 'green')\n",
        "begin_fill()\n",
        "jumpto(0,0)\n"
      ]
    },
    {
      "cell_type": "code",
      "execution_count": null,
      "metadata": {
        "colab": {
          "base_uri": "https://localhost:8080/"
        },
        "id": "AXV6jWMN2gOZ",
        "outputId": "536cc552-2697-48fb-e74f-1573c8e89247"
      },
      "outputs": [
        {
          "name": "stdout",
          "output_type": "stream",
          "text": [
            "10\n",
            "9\n",
            "8\n",
            "7\n",
            "6\n"
          ]
        }
      ],
      "source": [
        "for i in range(10,5,-1):\n",
        "  print(i)\n",
        "\n",
        "\n",
        "#range(start, end, step)"
      ]
    },
    {
      "cell_type": "markdown",
      "metadata": {
        "id": "laIT_LYs2pO6"
      },
      "source": [
        "function range is mainly used to denote how many iterations there are from end to end\n",
        "\n",
        "format: range(start,end,stop)\n",
        "\n",
        "No need for a. ontroller like in while; for loops defines internally a counter that distringuisges iteration from iteration within sequence statement. This happens automatically\n",
        "\n",
        "The illustration below shows how the looping proceeds. on every iteration, the next ibject in the swuquence is assign on the iterator cariable, until the sequence is exhausted and the processc ompleeyes.\n",
        "\n",
        "As long as the condition is true, the loop is active. Once the condition is flase, the loops ends\n",
        "\n"
      ]
    },
    {
      "cell_type": "markdown",
      "metadata": {
        "id": "WHLamvE95P2w"
      },
      "source": [
        "Design a calculator:\n",
        "the calculator once starts, cannot stop unless the user chooses to (hint: infitnite loop)\n",
        "implemen all numerical operators that we discussed\n",
        "the user has to provide the numbers and the desired operator from the keyboard, then the calculator will display the result\n",
        "numbers: int or float,\n",
        "The calculator sttops if the user enters the work \"break\" instead of an operator, it skips in iteration is the user gives an operator that is not numberical (ex: a boolean one)"
      ]
    },
    {
      "cell_type": "code",
      "execution_count": null,
      "metadata": {
        "colab": {
          "background_save": true,
          "base_uri": "https://localhost:8080/"
        },
        "id": "nYbMs70_8pmA",
        "outputId": "ec34dee2-cefc-44b1-f9d2-a9d385949417"
      },
      "outputs": [
        {
          "name": "stdout",
          "output_type": "stream",
          "text": [
            "Calculator Menu:\n",
            "1. Addition\n",
            "2. Subtraction\n",
            "3. Multiplication\n",
            "4. Division\n",
            "5. Exit\n"
          ]
        }
      ],
      "source": [
        "def calculator():\n",
        "    while True:\n",
        "        # Display menu options\n",
        "        print(\"Calculator Menu:\")\n",
        "        print(\"1. Addition\")\n",
        "        print(\"2. Subtraction\")\n",
        "        print(\"3. Multiplication\")\n",
        "        print(\"4. Division\")\n",
        "        print(\"5. Exit\")\n",
        "\n",
        "        # Get user choice\n",
        "        choice = input(\"Enter your choice (1-5): \")\n",
        "\n",
        "        # Perform operations based on user choice\n",
        "        if choice == '1':\n",
        "            num1 = float(input(\"Enter first number: \"))\n",
        "            num2 = float(input(\"Enter second number: \"))\n",
        "            result = num1 + num2\n",
        "            print(\"Result:\", result)\n",
        "        elif choice == '2':\n",
        "            num1 = float(input(\"Enter first number: \"))\n",
        "            num2 = float(input(\"Enter second number: \"))\n",
        "            result = num1 - num2\n",
        "            print(\"Result:\", result)\n",
        "        elif choice == '3':\n",
        "            num1 = float(input(\"Enter first number: \"))\n",
        "            num2 = float(input(\"Enter second number: \"))\n",
        "            result = num1 * num2\n",
        "            print(\"Result:\", result)\n",
        "        elif choice == '4':\n",
        "            num1 = float(input(\"Enter first number: \"))\n",
        "            num2 = float(input(\"Enter second number: \"))\n",
        "            if num2 != 0:\n",
        "                result = num1 / num2\n",
        "                print(\"Result:\", result)\n",
        "            else:\n",
        "                print(\"Error: Cannot divide by zero\")\n",
        "        elif choice == '5':\n",
        "            print(\"Exiting calculator...\")\n",
        "            break\n",
        "        else:\n",
        "            print(\"Invalid choice. Please enter a number between 1 and 5.\")\n",
        "\n",
        "# Call the calculator function to start the infinite loop\n",
        "calculator()\n"
      ]
    },
    {
      "cell_type": "code",
      "source": [
        "while True:\n",
        "  num1 = float(input('Enter first value:'))\n",
        "  num2 = float(input('Enter second value:'))\n",
        "  operator = input('Enter the operator:')\n",
        "\n",
        "  if operator == 'break':\n",
        "    print('Goodbye!')\n",
        "    break\n",
        "\n",
        "  if operator == \"+\":\n",
        "    answer = num1 +num2\n",
        "  elif operator == \"-\":\n",
        "    answer = num1 - num2\n",
        "  elif operator == \"*\":\n",
        "    answer = num1 * num2\n",
        "  elif operator == \"/\":\n",
        "    answer = num1 / num2\n",
        "  elif operator == \"//\":\n",
        "    answer = num1 // num2\n",
        "  elif operator == \"%\":\n",
        "    answer = num1 % num2\n",
        "  else:\n",
        "    print('Invalid operator:', operator)\n",
        "    continue\n",
        "  print('Result:', answer)"
      ],
      "metadata": {
        "id": "WQ8t85aGa-YZ"
      },
      "execution_count": null,
      "outputs": []
    },
    {
      "cell_type": "code",
      "source": [
        "s = \"this is a test\"\n",
        "len(s)\n",
        "\n",
        "print(s[5:7:1])"
      ],
      "metadata": {
        "colab": {
          "base_uri": "https://localhost:8080/"
        },
        "id": "5leAYCzsbD_h",
        "outputId": "1847bbe7-eed4-4bdf-88fe-419bd1eb3bd8"
      },
      "execution_count": null,
      "outputs": [
        {
          "output_type": "stream",
          "name": "stdout",
          "text": [
            "is\n"
          ]
        }
      ]
    },
    {
      "cell_type": "code",
      "source": [
        "s2='this is another test!'\n",
        "len(s)\n",
        "print(s[13],s[len(s)-1])"
      ],
      "metadata": {
        "colab": {
          "base_uri": "https://localhost:8080/"
        },
        "id": "URGVIS1Lb3v3",
        "outputId": "c05a7fdc-f951-43aa-fda3-3555787fec13"
      },
      "execution_count": null,
      "outputs": [
        {
          "output_type": "stream",
          "name": "stdout",
          "text": [
            "t t\n"
          ]
        }
      ]
    },
    {
      "cell_type": "code",
      "source": [
        "s = 'this is a test'\n",
        "this_word = s[0:4]\n",
        "test_word = s[10:len(s)]"
      ],
      "metadata": {
        "id": "OqHRcymcdBOE"
      },
      "execution_count": null,
      "outputs": []
    },
    {
      "cell_type": "markdown",
      "source": [
        "Slicing strings\n",
        "- start counting 0\n",
        "- the first number is the slice value"
      ],
      "metadata": {
        "id": "gRqOv9PSeAs1"
      }
    },
    {
      "cell_type": "code",
      "source": [
        "s = 'this is a test'\n",
        "this_word = s[:4]\n",
        "test_word = s [10:]\n",
        "\n",
        "#when the start and end values are missing it will print the full string. Adding no ending/ beginning value gives the full first word\n",
        "\n",
        "print(s[1:12:2])\n",
        "\n",
        "#start value, end value, step\n",
        "\n",
        "\n"
      ],
      "metadata": {
        "colab": {
          "base_uri": "https://localhost:8080/",
          "height": 53
        },
        "id": "N5IstzGJeip3",
        "outputId": "bda07733-5dd8-4010-a1a5-58f7e0f88971"
      },
      "execution_count": null,
      "outputs": [
        {
          "output_type": "stream",
          "name": "stdout",
          "text": [
            "hsi  e\n"
          ]
        },
        {
          "output_type": "execute_result",
          "data": {
            "text/plain": [
              "'test'"
            ],
            "application/vnd.google.colaboratory.intrinsic+json": {
              "type": "string"
            }
          },
          "metadata": {},
          "execution_count": 4
        }
      ]
    },
    {
      "cell_type": "code",
      "source": [
        "s = 'this is a test'\n",
        "s[-4:]"
      ],
      "metadata": {
        "colab": {
          "base_uri": "https://localhost:8080/",
          "height": 35
        },
        "id": "4j7FQnU2gQxv",
        "outputId": "eb4ce253-1a2f-49f8-987f-5254f520010f"
      },
      "execution_count": null,
      "outputs": [
        {
          "output_type": "execute_result",
          "data": {
            "text/plain": [
              "'test'"
            ],
            "application/vnd.google.colaboratory.intrinsic+json": {
              "type": "string"
            }
          },
          "metadata": {},
          "execution_count": 5
        }
      ]
    },
    {
      "cell_type": "code",
      "source": [
        "#adding strings together\n",
        "\n",
        "s1 = 'Hello '\n",
        "s2 = 'there'\n",
        "\n",
        "s1 + s2"
      ],
      "metadata": {
        "colab": {
          "base_uri": "https://localhost:8080/",
          "height": 35
        },
        "id": "BbSDebhMgnkn",
        "outputId": "c0c0ecfb-95c6-4e8e-d03d-73b66f36740f"
      },
      "execution_count": null,
      "outputs": [
        {
          "output_type": "execute_result",
          "data": {
            "text/plain": [
              "'Hello there'"
            ],
            "application/vnd.google.colaboratory.intrinsic+json": {
              "type": "string"
            }
          },
          "metadata": {},
          "execution_count": 7
        }
      ]
    },
    {
      "cell_type": "code",
      "source": [
        "s3 = 'abc'\n",
        "2*s3\n",
        "\n",
        "#cant multiple a string with anything except integers"
      ],
      "metadata": {
        "colab": {
          "base_uri": "https://localhost:8080/",
          "height": 35
        },
        "id": "mK3X6wjHhnPF",
        "outputId": "fbb926c5-18ae-4d9c-bb9f-31c7f1dba89d"
      },
      "execution_count": null,
      "outputs": [
        {
          "output_type": "execute_result",
          "data": {
            "text/plain": [
              "'abcabc'"
            ],
            "application/vnd.google.colaboratory.intrinsic+json": {
              "type": "string"
            }
          },
          "metadata": {},
          "execution_count": 9
        }
      ]
    },
    {
      "cell_type": "code",
      "source": [
        "x=10\n",
        "if x > 5:\n",
        "  print('Hello')\n",
        "elif x < 15:\n",
        "  print ('World')\n",
        "else:\n",
        "  print('Python')"
      ],
      "metadata": {
        "colab": {
          "base_uri": "https://localhost:8080/"
        },
        "id": "X8Ay5YX03DYH",
        "outputId": "fcaf7dfb-717d-4905-be78-a334d50fd61d"
      },
      "execution_count": null,
      "outputs": [
        {
          "output_type": "stream",
          "name": "stdout",
          "text": [
            "Hello\n"
          ]
        }
      ]
    },
    {
      "cell_type": "code",
      "source": [
        "for i in range(3):\n",
        "  print(i)\n",
        "\n",
        "  #a) 0 1 2\n",
        "  #b) 1 2\n",
        "  #c) 0 1\n",
        "  #d) 3"
      ],
      "metadata": {
        "colab": {
          "base_uri": "https://localhost:8080/"
        },
        "id": "hKWySZNK4BXH",
        "outputId": "8cd00da1-da4b-4b17-e0c4-c1b18a3826cd"
      },
      "execution_count": null,
      "outputs": [
        {
          "output_type": "stream",
          "name": "stdout",
          "text": [
            "0\n",
            "1\n",
            "2\n"
          ]
        }
      ]
    },
    {
      "cell_type": "code",
      "source": [
        "x = 5\n",
        "while x > 0:\n",
        "  print(x)\n",
        "  x -= 1\n",
        "  #a) 5 4 3 2 1\n",
        "  #b) 4 3 2 1\n",
        "  #c) 5\n",
        "  #d) 1 2 3 4 5"
      ],
      "metadata": {
        "colab": {
          "base_uri": "https://localhost:8080/"
        },
        "id": "ioVW8YlT4-Yh",
        "outputId": "0016409f-f932-42ca-afcf-f6cbb835be62"
      },
      "execution_count": null,
      "outputs": [
        {
          "output_type": "stream",
          "name": "stdout",
          "text": [
            "5\n",
            "4\n",
            "3\n",
            "2\n",
            "1\n"
          ]
        }
      ]
    },
    {
      "cell_type": "code",
      "source": [
        "x = 10\n",
        "if x < 5 or x % 2 == 0:\n",
        "  print('A')\n",
        "elif x < 15:\n",
        "  print('B')\n",
        "else:\n",
        "  print('C')\n",
        "\n",
        "  #if at least A or B is true, this statement is true\n",
        "  #The first part (the if stateent) is true. The second statement is also true but as long as one statment is true the whole thing is true.\n"
      ],
      "metadata": {
        "colab": {
          "base_uri": "https://localhost:8080/"
        },
        "id": "IGbDFfEe6oKp",
        "outputId": "d2fb9697-e8f3-47fb-c303-ecd602d8897d"
      },
      "execution_count": null,
      "outputs": [
        {
          "output_type": "stream",
          "name": "stdout",
          "text": [
            "A\n"
          ]
        }
      ]
    },
    {
      "cell_type": "code",
      "source": [
        "for i in range(5):\n",
        "  if i==3:\n",
        "    continue\n",
        "  print(i)\n",
        "\n",
        "#First value would be 0 so the loop runs through 0 is not equal to 3 so the condition is fals so it prints 0. Then the loops runs again and 1 is also not equal to 3 so the conditions prints 1.\n",
        "#When it gets to 3,"
      ],
      "metadata": {
        "id": "s7YqnLJU78gd"
      },
      "execution_count": null,
      "outputs": []
    },
    {
      "cell_type": "code",
      "source": [
        "x = 5\n",
        "while x > 0:\n",
        "  print(x)\n",
        "  x+=1\n",
        "\n",
        "  #a) 5 4 3 2 1\n",
        "  #b) 4 3 2 1\n",
        "  #c) Infinite loop\n",
        "  #d) 5"
      ],
      "metadata": {
        "id": "KXRI4lMM9wCU"
      },
      "execution_count": null,
      "outputs": []
    },
    {
      "cell_type": "code",
      "source": [
        "for i in range(1,6):\n",
        "  if i%2 == 0:\n",
        "    break\n",
        "  print(i)\n",
        "\n",
        "  #In this case 12345 will be printed because the range is 1,6\n",
        "  #The first value is 1 because that's the starting value. When it is 1, the condition is false because of the remainder."
      ],
      "metadata": {
        "colab": {
          "base_uri": "https://localhost:8080/"
        },
        "id": "Ak4XAB_p-NXm",
        "outputId": "00588ba9-05ca-49bf-b328-545535f31fc0"
      },
      "execution_count": 1,
      "outputs": [
        {
          "output_type": "stream",
          "name": "stdout",
          "text": [
            "1\n"
          ]
        }
      ]
    },
    {
      "cell_type": "code",
      "source": [
        "x= 2\n",
        "if x > 5:\n",
        "  print('Hello')\n",
        "else:\n",
        "  if x % 3 != 0:\n",
        "    print('World')\n",
        "  else:\n",
        "    print('Hello World')"
      ],
      "metadata": {
        "colab": {
          "base_uri": "https://localhost:8080/"
        },
        "id": "IBXL7upG_hPX",
        "outputId": "35e26c33-f9b4-4c05-80b4-eff48c9e3e2d"
      },
      "execution_count": null,
      "outputs": [
        {
          "output_type": "stream",
          "name": "stdout",
          "text": [
            "World\n"
          ]
        }
      ]
    },
    {
      "cell_type": "code",
      "source": [
        "x = 5\n",
        "while x > 0:\n",
        "  print(x)\n",
        "  x = x - 2\n"
      ],
      "metadata": {
        "colab": {
          "base_uri": "https://localhost:8080/"
        },
        "id": "AzMeFoQ0AsvL",
        "outputId": "942b1d14-a328-4e1f-f316-d2924e3c07f2"
      },
      "execution_count": null,
      "outputs": [
        {
          "output_type": "stream",
          "name": "stdout",
          "text": [
            "5\n",
            "3\n",
            "1\n"
          ]
        }
      ]
    },
    {
      "cell_type": "code",
      "source": [
        "date = input('Enter date (MM/DD/YYYY):')\n",
        "month = date[0:2]\n",
        "day = date [3:5]\n",
        "year = date [6:]\n",
        "print(month,day,year)\n"
      ],
      "metadata": {
        "id": "jflj5ym5OL5f"
      },
      "execution_count": null,
      "outputs": []
    }
  ],
  "metadata": {
    "colab": {
      "provenance": [],
      "authorship_tag": "ABX9TyOmYEfILMl4wqDvmjIRrl6H",
      "include_colab_link": true
    },
    "kernelspec": {
      "display_name": "Python 3",
      "name": "python3"
    },
    "language_info": {
      "name": "python"
    }
  },
  "nbformat": 4,
  "nbformat_minor": 0
}